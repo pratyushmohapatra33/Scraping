{
 "cells": [
  {
   "cell_type": "code",
   "execution_count": 1,
   "metadata": {},
   "outputs": [],
   "source": [
    "import requests\n",
    "import pandas as pd\n",
    "from bs4 import BeautifulSoup\n",
    "\n",
    "r=requests.get(\"https://www.webscraper.io/test-sites/e-commerce/allinone/computers/laptops\")\n",
    "\n",
    "c=r.content"
   ]
  },
  {
   "cell_type": "code",
   "execution_count": null,
   "metadata": {},
   "outputs": [],
   "source": [
    "\n",
    "\n",
    "soup=BeautifulSoup(c,\"html.parser\")\n",
    "\n",
    "print(soup.prettify())\n",
    "\n",
    "all=soup.find_all(\"div\",{\"class\":\"col-sm-4 col-lg-4 col-md-4\"})"
   ]
  },
  {
   "cell_type": "code",
   "execution_count": 36,
   "metadata": {},
   "outputs": [
    {
     "name": "stdout",
     "output_type": "stream",
     "text": [
      "Asus VivoBook X4\n",
      " 14\"\n",
      " Celeron N3450\n",
      " 4GB\n",
      " 128GB SSD\n",
      " Endless OS\n",
      " \n",
      "Prestigio SmartB\n",
      " 13.3\" FHD IPS\n",
      " Celeron N3350 1.1GHz\n",
      " 4GB\n",
      " 32GB\n",
      " Windows 10 Pro + Office 365 1 gadam\n",
      " \n",
      "Prestigio SmartB\n",
      " 13.3\" FHD IPS\n",
      " Celeron N3350 1.1GHz\n",
      " 4GB\n",
      " 32GB\n",
      " Windows 10 Pro + Office 365 1 gadam\n",
      " \n",
      "Aspire E1-\n",
      " Pentium N3520 2.16GHz\n",
      " 4GB\n",
      " 500GB\n",
      " Linux\n"
     ]
    },
    {
     "ename": "IndexError",
     "evalue": "list index out of range",
     "output_type": "error",
     "traceback": [
      "\u001b[1;31m---------------------------------------------------------------------------\u001b[0m",
      "\u001b[1;31mIndexError\u001b[0m                                Traceback (most recent call last)",
      "\u001b[1;32m<ipython-input-36-61367a4e4801>\u001b[0m in \u001b[0;36m<module>\u001b[1;34m\u001b[0m\n\u001b[0;32m     12\u001b[0m     \u001b[0mdrive_space\u001b[0m\u001b[1;33m=\u001b[0m\u001b[0marr\u001b[0m\u001b[1;33m[\u001b[0m\u001b[1;36m4\u001b[0m\u001b[1;33m]\u001b[0m\u001b[1;33m\u001b[0m\u001b[1;33m\u001b[0m\u001b[0m\n\u001b[0;32m     13\u001b[0m     \u001b[0mprint\u001b[0m\u001b[1;33m(\u001b[0m\u001b[0mdrive_space\u001b[0m\u001b[1;33m)\u001b[0m\u001b[1;33m\u001b[0m\u001b[1;33m\u001b[0m\u001b[0m\n\u001b[1;32m---> 14\u001b[1;33m     \u001b[0mos_type\u001b[0m\u001b[1;33m=\u001b[0m\u001b[0marr\u001b[0m\u001b[1;33m[\u001b[0m\u001b[1;36m5\u001b[0m\u001b[1;33m]\u001b[0m\u001b[1;33m\u001b[0m\u001b[1;33m\u001b[0m\u001b[0m\n\u001b[0m\u001b[0;32m     15\u001b[0m     \u001b[0mprint\u001b[0m\u001b[1;33m(\u001b[0m\u001b[0mos_type\u001b[0m\u001b[1;33m)\u001b[0m\u001b[1;33m\u001b[0m\u001b[1;33m\u001b[0m\u001b[0m\n\u001b[0;32m     16\u001b[0m     \u001b[0mprint\u001b[0m\u001b[1;33m(\u001b[0m\u001b[1;34m\" \"\u001b[0m\u001b[1;33m)\u001b[0m\u001b[1;33m\u001b[0m\u001b[1;33m\u001b[0m\u001b[0m\n",
      "\u001b[1;31mIndexError\u001b[0m: list index out of range"
     ]
    }
   ],
   "source": [
    "\n",
    "\n",
    "for item in all:\n",
    "    print(item.find(\"a\").text[:-3])\n",
    "    arr=item.find(\"p\").text.split(',')\n",
    "    try:\n",
    "        screen=arr[1]\n",
    "        print(screen)\n",
    "    except:\n",
    "        pass\n",
    "    try:\n",
    "        processor=arr[2]\n",
    "        print(processor)\n",
    "    except:\n",
    "        pass\n",
    "    try:\n",
    "        ram=arr[3]\n",
    "        print(ram)\n",
    "    except:\n",
    "        pass\n",
    "    drive_space=arr[4]\n",
    "    print(drive_space)\n",
    "    os_type=arr[5]\n",
    "    print(os_type)\n",
    "    print(\" \")\n",
    "\n"
   ]
  },
  {
   "cell_type": "code",
   "execution_count": null,
   "metadata": {},
   "outputs": [],
   "source": []
  }
 ],
 "metadata": {
  "kernelspec": {
   "display_name": "Python 3",
   "language": "python",
   "name": "python3"
  },
  "language_info": {
   "codemirror_mode": {
    "name": "ipython",
    "version": 3
   },
   "file_extension": ".py",
   "mimetype": "text/x-python",
   "name": "python",
   "nbconvert_exporter": "python",
   "pygments_lexer": "ipython3",
   "version": "3.7.1"
  }
 },
 "nbformat": 4,
 "nbformat_minor": 2
}
